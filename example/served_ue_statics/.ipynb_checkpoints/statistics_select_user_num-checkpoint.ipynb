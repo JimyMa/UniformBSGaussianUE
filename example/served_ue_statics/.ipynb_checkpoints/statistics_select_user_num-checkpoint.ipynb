{
 "cells": [
  {
   "cell_type": "markdown",
   "metadata": {},
   "source": [
    "# 超密集组网建模\n",
    "\n",
    "## 针对场景\n",
    "- 基站\n",
    "    - 随机分布 / 均匀分布\n",
    "- 用户\n",
    "    - 随机分布 / 均匀分布\n",
    "- $n_{bs} < n_{ue}$\n",
    "\n",
    "## 两种情况\n",
    "\n",
    "### Case 1\n",
    "\n",
    "- 固定用户数，固定基站数\n",
    "\n",
    "#### Problem 1\n",
    "\n",
    "- 统计基站的服务范围内大概有多少个用户？\n",
    "\n",
    "#### Problem 2\n",
    "\n",
    "- 大概需要多少的带宽？\n",
    "\n",
    "### Case 2\n",
    "\n",
    "- 固定基站数，不固定用户数\n",
    "\n",
    "#### Problem\n",
    "\n",
    "- 能服务的用户数\n",
    "\n",
    "## 主要问题\n",
    "\n",
    "- 资源分配问题\n",
    "\n",
    "## 分配的资源\n",
    "\n",
    "- 频带\n",
    "- 功率\n",
    "\n",
    "## 涉及到的问题\n",
    "\n",
    "- 复用问题\n",
    "- 用户需求的多样性\n",
    "- 不同频段的聚合"
   ]
  },
  {
   "cell_type": "markdown",
   "metadata": {},
   "source": [
    "# Case1 - Problem1 分析"
   ]
  },
  {
   "cell_type": "markdown",
   "metadata": {},
   "source": [
    "- 随机分布的用户，随机分布的基站，固定用户数，固定基站数，统计基站的服务范围内大概有多少个用户。"
   ]
  },
  {
   "cell_type": "markdown",
   "metadata": {},
   "source": [
    "区域的参数汇总如下表：\n",
    "\n",
    "|参数|数值|\n",
    "|:--|:--:|\n",
    "|基站数|500|\n",
    "|用户数|1000|"
   ]
  },
  {
   "cell_type": "code",
   "execution_count": null,
   "metadata": {},
   "outputs": [],
   "source": [
    "from region."
   ]
  }
 ],
 "metadata": {
  "kernelspec": {
   "display_name": "Python 2",
   "language": "python",
   "name": "python2"
  },
  "language_info": {
   "codemirror_mode": {
    "name": "ipython",
    "version": 2
   },
   "file_extension": ".py",
   "mimetype": "text/x-python",
   "name": "python",
   "nbconvert_exporter": "python",
   "pygments_lexer": "ipython2",
   "version": "2.7.12"
  }
 },
 "nbformat": 4,
 "nbformat_minor": 2
}
