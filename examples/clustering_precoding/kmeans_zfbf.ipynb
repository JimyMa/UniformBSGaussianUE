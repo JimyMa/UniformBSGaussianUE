{
 "cells": [
  {
   "cell_type": "code",
   "execution_count": 1,
   "metadata": {},
   "outputs": [],
   "source": [
    "from udntools.region import CompServiceRegion\n",
    "import matplotlib.pyplot as plt\n",
    "import numpy as np\n",
    "from udntools.utils import cdf_y_axis"
   ]
  },
  {
   "cell_type": "code",
   "execution_count": 2,
   "metadata": {},
   "outputs": [],
   "source": [
    "comp_service_region = CompServiceRegion(0, 100, 0, 100,\n",
    "                                        100, 10000,\n",
    "                                        ue_sigma=5)"
   ]
  },
  {
   "cell_type": "code",
   "execution_count": 3,
   "metadata": {},
   "outputs": [],
   "source": [
    "def get_comp_number(region):\n",
    "    count = 0\n",
    "    for key, values in region.cluster_set_.items():\n",
    "        num = np.size(values)\n",
    "        if num > 1:\n",
    "            count += num\n",
    "    return count"
   ]
  },
  {
   "cell_type": "code",
   "execution_count": 4,
   "metadata": {},
   "outputs": [
    {
     "name": "stdout",
     "output_type": "stream",
     "text": [
      "0\n",
      "95\n",
      "85\n",
      "55\n"
     ]
    }
   ],
   "source": [
    "# 设定仿真的信干比区间\n",
    "x_axis = np.arange(-10, 20.5, 0.5)\n",
    "\n",
    "comp_service_region.cluster_by_dfs(0)\n",
    "comp_service_region.sir_array_sim(iteration=1)\n",
    "cdf_dfs_0 = cdf_y_axis(x_axis, comp_service_region.sir_db_array)\n",
    "print(get_comp_number(comp_service_region))\n",
    "\n",
    "comp_service_region.cluster_by_kmeans(30)\n",
    "comp_service_region.sir_array_sim(iteration=1)\n",
    "cdf_dfs_30 = cdf_y_axis(x_axis, comp_service_region.sir_db_array)\n",
    "print(get_comp_number(comp_service_region))\n",
    "\n",
    "comp_service_region.cluster_by_kmeans(50)\n",
    "comp_service_region.sir_array_sim(iteration=1)\n",
    "cdf_dfs_50 = cdf_y_axis(x_axis, comp_service_region.sir_db_array)\n",
    "print(get_comp_number(comp_service_region))\n",
    "\n",
    "comp_service_region.cluster_by_kmeans(70)\n",
    "comp_service_region.sir_array_sim(iteration=1)\n",
    "cdf_dfs_70 = cdf_y_axis(x_axis, comp_service_region.sir_db_array)\n",
    "print(get_comp_number(comp_service_region))"
   ]
  },
  {
   "cell_type": "code",
   "execution_count": 5,
   "metadata": {},
   "outputs": [
    {
     "data": {
      "image/png": "[encoded data removed]",
      "text/plain": [
       "<matplotlib.figure.Figure at 0x7f902602f2b0>"
      ]
     },
     "metadata": {},
     "output_type": "display_data"
    }
   ],
   "source": [
    "fig = plt.figure(figsize=(6, 5))\n",
    "# 使能中文字体\n",
    "\n",
    "# -*- coding:utf-8 -*-\n",
    "plt.rcParams['font.sans-serif'] = ['SimHei']  # 用来正常显示中文标签\n",
    "plt.rcParams['axes.unicode_minus'] = False  # 用来正常显示负号\n",
    "\n",
    "f0 = plt.scatter(x_axis, 1 - cdf_dfs_0, s = 10, c='r')\n",
    "f30 = plt.scatter(x_axis, 1 - cdf_dfs_30, s = 10, c='g')\n",
    "f50 = plt.scatter(x_axis, 1 - cdf_dfs_50, s = 10, c='b')\n",
    "f70 = plt.scatter(x_axis, 1 - cdf_dfs_70, s = 10, c='lightpink')\n",
    "plt.xlim(-10, 20)\n",
    "plt.ylim(0,1)\n",
    "plt.grid(True)\n",
    "\n",
    "# 加图例\n",
    "plt.legend(handles=[f0,\n",
    "                    f30,\n",
    "                    f50,\n",
    "                    f70], \n",
    "           labels=[r\"未采用基站分簇\",\n",
    "                   r\"$k=30$\",\n",
    "                   r\"$k=50$\",\n",
    "                   r\"$k=70$\"], \n",
    "           loc='best',\n",
    "           prop={'size': 10})\n",
    "\n",
    "# 加坐标轴标签\n",
    "plt.xlabel(\"信干比(dB)\",fontproperties = 'SimHei', size=13)\n",
    "plt.ylabel(\"覆盖率\",fontproperties = 'SimHei', size=13)\n",
    "\n",
    "# 存储成pdf\n",
    "fig.savefig('pc_kmeans_zfbf_show.pdf')\n",
    "fig.savefig('pc_kmeans_zfbf_show.png')\n",
    "\n",
    "plt.show()"
   ]
  },
  {
   "cell_type": "code",
   "execution_count": null,
   "metadata": {},
   "outputs": [],
   "source": []
  }
 ],
 "metadata": {
  "kernelspec": {
   "display_name": "Python 3",
   "language": "python",
   "name": "python3"
  },
  "language_info": {
   "codemirror_mode": {
    "name": "ipython",
    "version": 3
   },
   "file_extension": ".py",
   "mimetype": "text/x-python",
   "name": "python",
   "nbconvert_exporter": "python",
   "pygments_lexer": "ipython3",
   "version": "3.5.2"
  }
 },
 "nbformat": 4,
 "nbformat_minor": 2
}
