{
 "cells": [
  {
   "cell_type": "code",
   "execution_count": 1,
   "metadata": {},
   "outputs": [],
   "source": [
    "from udntools.region import CompServiceRegion\n",
    "import matplotlib.pyplot as plt\n",
    "import numpy as np\n",
    "from udntools.utils import cdf_y_axis"
   ]
  },
  {
   "cell_type": "code",
   "execution_count": 2,
   "metadata": {},
   "outputs": [],
   "source": [
    "comp_service_region = CompServiceRegion(0, 100, 0, 100,\n",
    "                                        100, 1000,\n",
    "                                        ue_sigma=5)"
   ]
  },
  {
   "cell_type": "code",
   "execution_count": 8,
   "metadata": {},
   "outputs": [
    {
     "name": "stdout",
     "output_type": "stream",
     "text": [
      "344\n",
      "788\n",
      "468\n",
      "474\n",
      "394\n",
      "460\n",
      "1350\n",
      "513\n",
      "566\n",
      "494\n",
      "464\n"
     ]
    },
    {
     "data": {
      "text/plain": [
       "{0: array([0]),\n",
       " 1: array([1]),\n",
       " 2: array([2]),\n",
       " 3: array([3]),\n",
       " 4: array([4]),\n",
       " 5: array([5]),\n",
       " 6: array([6]),\n",
       " 7: array([7]),\n",
       " 8: array([8]),\n",
       " 9: array([9]),\n",
       " 10: array([10]),\n",
       " 11: array([11]),\n",
       " 12: array([12]),\n",
       " 13: array([13]),\n",
       " 14: array([14]),\n",
       " 15: array([15]),\n",
       " 16: array([16]),\n",
       " 17: array([17]),\n",
       " 18: array([18]),\n",
       " 19: array([19]),\n",
       " 20: array([20]),\n",
       " 21: array([21]),\n",
       " 22: array([22]),\n",
       " 23: array([23]),\n",
       " 24: array([24]),\n",
       " 25: array([25]),\n",
       " 26: array([26]),\n",
       " 27: array([27]),\n",
       " 28: array([28]),\n",
       " 29: array([29]),\n",
       " 30: array([30]),\n",
       " 31: array([31]),\n",
       " 32: array([32]),\n",
       " 33: array([33]),\n",
       " 34: array([34]),\n",
       " 35: array([35]),\n",
       " 36: array([36]),\n",
       " 37: array([37]),\n",
       " 38: array([38]),\n",
       " 39: array([39]),\n",
       " 40: array([40]),\n",
       " 41: array([41]),\n",
       " 42: array([42]),\n",
       " 43: array([43]),\n",
       " 44: array([44]),\n",
       " 45: array([45]),\n",
       " 46: array([46]),\n",
       " 47: array([47]),\n",
       " 48: array([48]),\n",
       " 49: array([49]),\n",
       " 50: array([50]),\n",
       " 51: array([51]),\n",
       " 52: array([52]),\n",
       " 53: array([53]),\n",
       " 54: array([54]),\n",
       " 55: array([55]),\n",
       " 56: array([56]),\n",
       " 57: array([57]),\n",
       " 58: array([58]),\n",
       " 59: array([59]),\n",
       " 60: array([60]),\n",
       " 61: array([61]),\n",
       " 62: array([62]),\n",
       " 63: array([63]),\n",
       " 64: array([64]),\n",
       " 65: array([65]),\n",
       " 66: array([66]),\n",
       " 67: array([67]),\n",
       " 68: array([68]),\n",
       " 69: array([69]),\n",
       " 70: array([70]),\n",
       " 71: array([71]),\n",
       " 72: array([72]),\n",
       " 73: array([73]),\n",
       " 74: array([74]),\n",
       " 75: array([75]),\n",
       " 76: array([76]),\n",
       " 77: array([77]),\n",
       " 78: array([78]),\n",
       " 79: array([79]),\n",
       " 80: array([80]),\n",
       " 81: array([81]),\n",
       " 82: array([82]),\n",
       " 83: array([83]),\n",
       " 84: array([84]),\n",
       " 85: array([85]),\n",
       " 86: array([86]),\n",
       " 87: array([87]),\n",
       " 88: array([88]),\n",
       " 89: array([89]),\n",
       " 90: array([90]),\n",
       " 91: array([91]),\n",
       " 92: array([92]),\n",
       " 93: array([93]),\n",
       " 94: array([94]),\n",
       " 95: array([95]),\n",
       " 96: array([96]),\n",
       " 97: array([97]),\n",
       " 98: array([98]),\n",
       " 99: array([99])}"
      ]
     },
     "execution_count": 8,
     "metadata": {},
     "output_type": "execute_result"
    }
   ],
   "source": [
    "comp_service_region.cluster_by_dfs(0)\n",
    "\n",
    "comp_service_region.user_generate()\n",
    "\n",
    "comp_service_region.sir_array_sim(iter=10)\n",
    "comp_service_region.cluster_set_"
   ]
  },
  {
   "cell_type": "code",
   "execution_count": 4,
   "metadata": {},
   "outputs": [],
   "source": [
    "# 设定仿真的信干比区间\n",
    "x_axis = np.arange(-10, 20.5, 0.5)\n",
    "\n",
    "cdf_dfs_5 = cdf_y_axis(x_axis, comp_service_region.sir_array_db)"
   ]
  },
  {
   "cell_type": "code",
   "execution_count": 5,
   "metadata": {},
   "outputs": [
    {
     "data": {
      "image/png": "[encoded data removed]",
      "text/plain": [
       "<matplotlib.figure.Figure at 0x7fe6eb542da0>"
      ]
     },
     "metadata": {},
     "output_type": "display_data"
    }
   ],
   "source": [
    "fig = plt.figure(figsize=(6, 5))\n",
    "plt.scatter(x_axis, 1 -cdf_dfs_5, s = 10)\n",
    "plt.xlim(-10, 20)\n",
    "plt.ylim(0,1)\n",
    "plt.grid(True)\n",
    "\n",
    "plt.xlabel(\"SIR(dB)\",size=13)\n",
    "plt.ylabel(\"pc\", size=13)\n",
    "plt.show()"
   ]
  },
  {
   "cell_type": "code",
   "execution_count": null,
   "metadata": {},
   "outputs": [],
   "source": []
  }
 ],
 "metadata": {
  "kernelspec": {
   "display_name": "Python 3",
   "language": "python",
   "name": "python3"
  },
  "language_info": {
   "codemirror_mode": {
    "name": "ipython",
    "version": 3
   },
   "file_extension": ".py",
   "mimetype": "text/x-python",
   "name": "python",
   "nbconvert_exporter": "python",
   "pygments_lexer": "ipython3",
   "version": "3.5.2"
  }
 },
 "nbformat": 4,
 "nbformat_minor": 2
}
