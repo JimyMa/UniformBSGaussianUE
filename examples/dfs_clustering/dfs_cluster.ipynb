{
 "cells": [
  {
   "cell_type": "code",
   "execution_count": 1,
   "metadata": {},
   "outputs": [],
   "source": [
    "import numpy as np\n",
    "from udntools.utils import DFSDictByDistance\n",
    "from udntools.region import ServiceRegion\n",
    "import matplotlib.pyplot as plt"
   ]
  },
  {
   "cell_type": "code",
   "execution_count": 2,
   "metadata": {},
   "outputs": [],
   "source": [
    "service_region = ServiceRegion(0, 100, 0, 100, 100, 1000)"
   ]
  },
  {
   "cell_type": "code",
   "execution_count": 3,
   "metadata": {
    "scrolled": true
   },
   "outputs": [],
   "source": [
    "dfs = DFSDictByDistance(service_region.bs_position_, 5.0)"
   ]
  },
  {
   "cell_type": "code",
   "execution_count": 4,
   "metadata": {},
   "outputs": [
    {
     "data": {
      "image/png": "[encoded data removed]",
      "text/plain": [
       "<matplotlib.figure.Figure at 0x7f53e1a6aac8>"
      ]
     },
     "metadata": {},
     "output_type": "display_data"
    }
   ],
   "source": [
    "fig = plt.figure(figsize=(5, 5))\n",
    "dfs.dfs_plot(service_region.bs_position_)\n",
    "plt.xlim(0, 100)\n",
    "plt.ylim(0, 100)\n",
    "plt.show()"
   ]
  },
  {
   "cell_type": "code",
   "execution_count": 5,
   "metadata": {},
   "outputs": [
    {
     "data": {
      "text/plain": [
       "{0: array([0]),\n",
       " 1: array([ 1, 84, 87]),\n",
       " 2: array([2]),\n",
       " 3: array([3]),\n",
       " 4: array([4]),\n",
       " 5: array([5]),\n",
       " 6: array([6]),\n",
       " 7: array([7]),\n",
       " 8: array([8]),\n",
       " 9: array([ 9, 53, 23, 61]),\n",
       " 10: array([10]),\n",
       " 11: array([11]),\n",
       " 12: array([12, 27]),\n",
       " 13: array([13]),\n",
       " 14: array([14]),\n",
       " 15: array([15]),\n",
       " 16: array([16, 94, 95]),\n",
       " 17: array([17, 52, 64]),\n",
       " 18: array([18]),\n",
       " 19: array([19, 79, 57]),\n",
       " 20: array([20]),\n",
       " 21: array([21]),\n",
       " 22: array([22, 46, 92]),\n",
       " 23: array([24]),\n",
       " 24: array([25, 43]),\n",
       " 25: array([26]),\n",
       " 26: array([28, 47, 90]),\n",
       " 27: array([29]),\n",
       " 28: array([30, 58]),\n",
       " 29: array([31]),\n",
       " 30: array([32]),\n",
       " 31: array([33, 74]),\n",
       " 32: array([34]),\n",
       " 33: array([35]),\n",
       " 34: array([36, 67]),\n",
       " 35: array([37]),\n",
       " 36: array([38]),\n",
       " 37: array([39, 81]),\n",
       " 38: array([40]),\n",
       " 39: array([41]),\n",
       " 40: array([42]),\n",
       " 41: array([44, 86, 97]),\n",
       " 42: array([45]),\n",
       " 43: array([48]),\n",
       " 44: array([49]),\n",
       " 45: array([50]),\n",
       " 46: array([51]),\n",
       " 47: array([54]),\n",
       " 48: array([55, 71]),\n",
       " 49: array([56]),\n",
       " 50: array([59]),\n",
       " 51: array([60]),\n",
       " 52: array([62]),\n",
       " 53: array([63, 83, 93, 98]),\n",
       " 54: array([65]),\n",
       " 55: array([66]),\n",
       " 56: array([68, 73, 89]),\n",
       " 57: array([69]),\n",
       " 58: array([70]),\n",
       " 59: array([72]),\n",
       " 60: array([75]),\n",
       " 61: array([76, 77]),\n",
       " 62: array([78]),\n",
       " 63: array([80, 88]),\n",
       " 64: array([82]),\n",
       " 65: array([85]),\n",
       " 66: array([91]),\n",
       " 67: array([96]),\n",
       " 68: array([99])}"
      ]
     },
     "execution_count": 5,
     "metadata": {},
     "output_type": "execute_result"
    }
   ],
   "source": [
    "service_region.bs_position_.shape\n",
    "dfs.near_distance_dict_"
   ]
  },
  {
   "cell_type": "code",
   "execution_count": null,
   "metadata": {},
   "outputs": [],
   "source": []
  }
 ],
 "metadata": {
  "kernelspec": {
   "display_name": "Python 3",
   "language": "python",
   "name": "python3"
  },
  "language_info": {
   "codemirror_mode": {
    "name": "ipython",
    "version": 3
   },
   "file_extension": ".py",
   "mimetype": "text/x-python",
   "name": "python",
   "nbconvert_exporter": "python",
   "pygments_lexer": "ipython3",
   "version": "3.5.2"
  }
 },
 "nbformat": 4,
 "nbformat_minor": 2
}
