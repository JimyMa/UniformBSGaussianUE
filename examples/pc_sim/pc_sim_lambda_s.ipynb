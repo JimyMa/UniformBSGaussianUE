{
 "cells": [
  {
   "cell_type": "markdown",
   "metadata": {},
   "source": [
    "# 覆盖率性能的仿真"
   ]
  },
  {
   "cell_type": "markdown",
   "metadata": {},
   "source": [
    "## 覆盖率与密度的关系"
   ]
  },
  {
   "cell_type": "code",
   "execution_count": 1,
   "metadata": {},
   "outputs": [],
   "source": [
    "import numpy as np\n",
    "import matplotlib.pyplot as plt\n",
    "from udntools.channel import BaseChannel\n",
    "from udntools.region import ServiceRegion\n",
    "from udntools.utils import cdf_y_axis\n",
    "from udntools.utils import pc_gaussian_ue"
   ]
  },
  {
   "cell_type": "code",
   "execution_count": 2,
   "metadata": {},
   "outputs": [],
   "source": [
    "#基本参数设定\n",
    "\n",
    "\n",
    "# 定义信道\n",
    "channel = BaseChannel(4.0)\n",
    "\n",
    "# 设定仿真的信干比区间\n",
    "x_axis = np.arange(-10, 20.5, 0.5)\n",
    "\n",
    "# 定义颜色\n",
    "color = ['r', 'g', 'b']\n"
   ]
  },
  {
   "cell_type": "markdown",
   "metadata": {},
   "source": [
    "## 不同的密度下的覆盖率分析"
   ]
  },
  {
   "cell_type": "code",
   "execution_count": 3,
   "metadata": {},
   "outputs": [
    {
     "name": "stderr",
     "output_type": "stream",
     "text": [
      "/usr/local/lib/python3.6/dist-packages/scipy/integrate/quadpack.py:385: IntegrationWarning: The algorithm does not converge.  Roundoff error is detected\n",
      "  in the extrapolation table.  It is assumed that the requested tolerance\n",
      "  cannot be achieved, and that the returned result (if full_output = 1) is \n",
      "  the best which can be obtained.\n",
      "  warnings.warn(msg, IntegrationWarning)\n"
     ]
    }
   ],
   "source": [
    "# lambda_s = 0.005, 0.01, 0.02 \n",
    "# 对应service_region.bs_number_ = 25, 50, 100\n",
    "\n",
    "#######################################################################\n",
    "########                                                        #######\n",
    "########          service_region.bs_number_ = 25的情况           #######\n",
    "########                                                        #######\n",
    "#######################################################################\n",
    "\n",
    "# 定义区域的属性\n",
    "service_region_25 = ServiceRegion(0, 100,    \n",
    "                                  0, 100,    \n",
    "                                  25, 10000, \n",
    "                                  bs_distribution=\"uniform\",\n",
    "                                  ue_distribution=\"gaussian\",\n",
    "                                  ue_sigma=5.0,\n",
    "                                  if_fix_bs=False)\n",
    "\n",
    "# 对覆盖率仿真\n",
    "sir_user_sim_25 =10 * np.log10(\n",
    "                 channel.sir_vector(service_region_25.bs_position_,\n",
    "                                    service_region_25.ue_position_))\n",
    "\n",
    "cdf_nbs_25 = cdf_y_axis(x_axis, sir_user_sim_25)\n",
    "\n",
    "# 覆盖率的理论数值\n",
    "pc_nbs_25 = pc_gaussian_ue(x_axis, 0.0025, 4.0, 5.0)\n",
    "\n",
    "#######################################################################\n",
    "########                                                        #######\n",
    "########          service_region.bs_number_ = 50的情况           #######\n",
    "########                                                        #######\n",
    "#######################################################################\n",
    "\n",
    "# 定义区域的属性\n",
    "service_region_50 = ServiceRegion(0, 100,  \n",
    "                                  0, 100,   \n",
    "                                  50, 10000, \n",
    "                                  bs_distribution=\"uniform\",\n",
    "                                  ue_distribution=\"gaussian\",\n",
    "                                  ue_sigma=5.0,\n",
    "                                  if_fix_bs=False)\n",
    "\n",
    "# 对覆盖率仿真\n",
    "sir_user_sim_50 =10 * np.log10(\n",
    "                 channel.sir_vector(service_region_50.bs_position_,\n",
    "                                    service_region_50.ue_position_))\n",
    "\n",
    "cdf_nbs_50 = cdf_y_axis(x_axis, sir_user_sim_50)\n",
    "\n",
    "# 覆盖率的理论数值\n",
    "pc_nbs_50 = pc_gaussian_ue(x_axis, 0.005, 4.0, 5.0)\n",
    "\n",
    "#######################################################################\n",
    "########                                                        #######\n",
    "########          service_region.bs_number_ = 100的情况          #######\n",
    "########                                                        #######\n",
    "#######################################################################\n",
    "\n",
    "# 定义区域的属性\n",
    "service_region_100 = ServiceRegion(0, 100,  \n",
    "                                   0, 100,   \n",
    "                                   100, 10000, \n",
    "                                   bs_distribution=\"uniform\",\n",
    "                                   ue_distribution=\"gaussian\",\n",
    "                                   ue_sigma=5.0,\n",
    "                                   if_fix_bs=False)\n",
    "\n",
    "# 对覆盖率仿真\n",
    "sir_user_sim_100 =10 * np.log10(\n",
    "                  channel.sir_vector(service_region_100.bs_position_,\n",
    "                                     service_region_100.ue_position_))\n",
    "\n",
    "cdf_nbs_100 = cdf_y_axis(x_axis, sir_user_sim_100)\n",
    "\n",
    "# 覆盖率的理论数值\n",
    "pc_nbs_100 = pc_gaussian_ue(x_axis, 0.01, 4.0, 5.0)"
   ]
  },
  {
   "cell_type": "code",
   "execution_count": 4,
   "metadata": {},
   "outputs": [
    {
     "data": {
      "image/png": "[encoded data removed]",
      "text/plain": [
       "<Figure size 432x360 with 1 Axes>"
      ]
     },
     "metadata": {},
     "output_type": "display_data"
    }
   ],
   "source": [
    "# 画图\n",
    "\n",
    "# 图片大小\n",
    "fig = plt.figure(figsize=(6, 5))\n",
    "\n",
    "f25_theory, = plt.plot(x_axis, pc_nbs_25, color[0])\n",
    "f25_sim = plt.scatter(x_axis, 1 - cdf_nbs_25, c=color[0], s = 10)\n",
    "\n",
    "f50_theory, = plt.plot(x_axis, pc_nbs_50, color[1])\n",
    "f50_sim = plt.scatter(x_axis, 1 - cdf_nbs_50, c=color[1], s = 10)\n",
    "\n",
    "f100_theory, = plt.plot(x_axis, pc_nbs_100, color[2])\n",
    "f100_sim = plt.scatter(x_axis, 1 - cdf_nbs_100, c=color[2], s = 10)\n",
    "\n",
    "plt.xlim(-10, 20)\n",
    "plt.ylim(0,1)\n",
    "plt.grid(True)\n",
    "\n",
    "\n",
    "# 加图例\n",
    "\n",
    "# 使能中文字体\n",
    "# -*- coding:utf-8 -*-\n",
    "plt.rcParams['font.sans-serif'] = ['SimHei']  # 用来正常显示中文标签\n",
    "plt.rcParams['axes.unicode_minus'] = False  # 用来正常显示负号\n",
    "\n",
    "plt.legend(handles=[f25_sim,\n",
    "                    f25_theory,\n",
    "                    f50_sim,\n",
    "                    f50_theory,\n",
    "                    f100_sim,\n",
    "                    f100_theory], \n",
    "           labels=[\"$\\lambda_s$ = 0.0025仿真\",\n",
    "                   \"$\\lambda_s$ = 0.0025理论\",\n",
    "                   \"$\\lambda_s$ = 0.005仿真\",\n",
    "                   \"$\\lambda_s$ = 0.005理论\",\n",
    "                   \"$\\lambda_s$ = 0.01仿真\",\n",
    "                   \"$\\lambda_s$ = 0.01理论\"], \n",
    "           loc='best',\n",
    "           prop={'size': 10})\n",
    "\n",
    "# 加坐标轴标签\n",
    "plt.xlabel(\"信干比(dB)\",fontproperties = 'SimHei', size=13)\n",
    "plt.ylabel(\"覆盖率\",fontproperties = 'SimHei', size=13)\n",
    "# 存储成为pdf\n",
    "fig.savefig('pc_lambda_s.pdf')\n",
    "fig.savefig('pc_lambda_s.png')\n",
    "\n",
    "plt.show()"
   ]
  }
 ],
 "metadata": {
  "kernelspec": {
   "display_name": "Python 3",
   "language": "python",
   "name": "python3"
  },
  "language_info": {
   "codemirror_mode": {
    "name": "ipython",
    "version": 3
   },
   "file_extension": ".py",
   "mimetype": "text/x-python",
   "name": "python",
   "nbconvert_exporter": "python",
   "pygments_lexer": "ipython3",
   "version": "3.6.5"
  }
 },
 "nbformat": 4,
 "nbformat_minor": 2
}
