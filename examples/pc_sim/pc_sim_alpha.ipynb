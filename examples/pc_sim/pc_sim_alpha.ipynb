{
 "cells": [
  {
   "cell_type": "markdown",
   "metadata": {},
   "source": [
    "# 覆盖率性能的仿真"
   ]
  },
  {
   "cell_type": "markdown",
   "metadata": {},
   "source": [
    "## 覆盖率与信道衰减系数的关系"
   ]
  },
  {
   "cell_type": "code",
   "execution_count": 1,
   "metadata": {},
   "outputs": [],
   "source": [
    "import numpy as np\n",
    "import matplotlib.pyplot as plt\n",
    "from udntools.channel import BaseChannel\n",
    "from udntools.region import ServiceRegion\n",
    "from udntools.utils import cdf_y_axis\n",
    "from udntools.utils import pc_gaussian_ue"
   ]
  },
  {
   "cell_type": "code",
   "execution_count": 2,
   "metadata": {},
   "outputs": [],
   "source": [
    "# 基本参数设定\n",
    "\n",
    "# 区域的基本属性\n",
    "service_region = ServiceRegion(0, 100,    \n",
    "                               0, 100,    \n",
    "                               100, 10000, \n",
    "                               ue_distribution=\"gaussian\",\n",
    "                               ue_sigma=5.0)\n",
    "\n",
    "# 设定仿真的信干比区间\n",
    "x_axis = np.arange(-10, 20.5, 0.5)\n",
    "\n",
    "# 定义颜色\n",
    "color = ['r', 'g', 'b']"
   ]
  },
  {
   "cell_type": "code",
   "execution_count": 3,
   "metadata": {},
   "outputs": [],
   "source": [
    "#######################################################################\n",
    "########                                                        #######\n",
    "########          channel.path_loss_factor = 4.0的情况           #######\n",
    "########                                                        #######\n",
    "#######################################################################\n",
    "\n",
    "channel = BaseChannel(4.0)\n",
    "\n",
    "# 对覆盖率仿真\n",
    "sir_user_sim_4 =10 * np.log10(\n",
    "                 channel.sir_vector(service_region.bs_position_,\n",
    "                                    service_region.ue_position_))\n",
    "cdf_nbs_4 = cdf_y_axis(x_axis, sir_user_sim_4)\n",
    "\n",
    "# 覆盖率的理论数值\n",
    "pc_nbs_4 = pc_gaussian_ue(x_axis, 0.01, 4.0, 5.0)\n",
    "\n",
    "#######################################################################\n",
    "########                                                        #######\n",
    "########          channel.path_loss_factor = 2.0的情况           #######\n",
    "########                                                        #######\n",
    "#######################################################################\n",
    "\n",
    "channel.set_path_loss_factor(2.0)\n",
    "\n",
    "# 对覆盖率仿真\n",
    "sir_user_sim_2 =10 * np.log10(\n",
    "                 channel.sir_vector(service_region.bs_position_,\n",
    "                                    service_region.ue_position_))\n",
    "cdf_nbs_2 = cdf_y_axis(x_axis, sir_user_sim_2)\n",
    "\n",
    "# 覆盖率的理论数值\n",
    "pc_nbs_2 = pc_gaussian_ue(x_axis, 0.01, 2.0, 5.0)"
   ]
  },
  {
   "cell_type": "code",
   "execution_count": 4,
   "metadata": {},
   "outputs": [
    {
     "data": {
      "image/png": "[encoded data removed]",
      "text/plain": [
       "<matplotlib.figure.Figure at 0x7f8f8c03c208>"
      ]
     },
     "metadata": {},
     "output_type": "display_data"
    }
   ],
   "source": [
    "# 画图\n",
    "\n",
    "# 使能中文字体\n",
    "# -*- coding:utf-8 -*-\n",
    "plt.rcParams['font.sans-serif'] = ['SimHei']  # 用来正常显示中文标签\n",
    "plt.rcParams['axes.unicode_minus'] = False  # 用来正常显示负号\n",
    "\n",
    "# 图片大小\n",
    "fig = plt.figure(figsize=(6, 5))\n",
    "\n",
    "f4_theory, = plt.plot(x_axis, pc_nbs_4, color[0])\n",
    "f4_sim = plt.scatter(x_axis, 1 - cdf_nbs_4, c=color[0], s = 10)\n",
    "\n",
    "f2_theory, = plt.plot(x_axis, pc_nbs_2, color[1])\n",
    "f2_sim = plt.scatter(x_axis, 1 - cdf_nbs_2, c=color[1], s = 10)\n",
    "\n",
    "plt.xlim(-10, 20)\n",
    "plt.ylim(0,1)\n",
    "plt.grid(True)\n",
    "\n",
    "\n",
    "# 加图例\n",
    "\n",
    "# 使能中文字体\n",
    "# -*- coding:utf-8 -*-\n",
    "plt.rcParams['font.sans-serif'] = ['SimHei']  # 用来正常显示中文标签\n",
    "plt.rcParams['axes.unicode_minus'] = False  # 用来正常显示负号\n",
    "\n",
    "plt.legend(handles=[f4_sim,\n",
    "                    f4_theory,\n",
    "                    f2_sim,\n",
    "                    f2_theory], \n",
    "           labels=[r\"$\\alpha$ = 4.0仿真\",\n",
    "                   r\"$\\alpha$ = 4.0理论\",\n",
    "                   r\"$\\alpha$ = 2.0仿真\",\n",
    "                   r\"$\\alpha$ = 2.0理论\"], \n",
    "           loc='best',\n",
    "           prop={'size': 10})\n",
    "# 加坐标轴标签\n",
    "plt.xlabel(\"信干比(dB)\",fontproperties = 'SimHei', size=13)\n",
    "plt.ylabel(\"覆盖率\",fontproperties = 'SimHei', size=13)\n",
    "# 存储成为pdf\n",
    "fig.savefig('pc_alpha.pdf')\n",
    "fig.savefig('pc_alpha.png')\n",
    "\n",
    "plt.show()"
   ]
  },
  {
   "cell_type": "code",
   "execution_count": null,
   "metadata": {},
   "outputs": [],
   "source": []
  }
 ],
 "metadata": {
  "kernelspec": {
   "display_name": "Python 3",
   "language": "python",
   "name": "python3"
  },
  "language_info": {
   "codemirror_mode": {
    "name": "ipython",
    "version": 3
   },
   "file_extension": ".py",
   "mimetype": "text/x-python",
   "name": "python",
   "nbconvert_exporter": "python",
   "pygments_lexer": "ipython3",
   "version": "3.5.2"
  }
 },
 "nbformat": 4,
 "nbformat_minor": 2
}
